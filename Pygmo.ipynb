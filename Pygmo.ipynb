{
  "nbformat": 4,
  "nbformat_minor": 0,
  "metadata": {
    "colab": {
      "name": "Pygmo.ipynb",
      "provenance": [],
      "authorship_tag": "ABX9TyMNIolX02s9fXcyif+qHq/2"
    },
    "kernelspec": {
      "name": "python3",
      "display_name": "Python 3"
    },
    "language_info": {
      "name": "python"
    }
  },
  "cells": [
    {
      "cell_type": "code",
      "execution_count": 2,
      "metadata": {
        "colab": {
          "base_uri": "https://localhost:8080/"
        },
        "id": "QyRV7hly2LJ6",
        "outputId": "eaec4096-293a-4452-d8ac-ba7e5794a6a7"
      },
      "outputs": [
        {
          "output_type": "stream",
          "name": "stdout",
          "text": [
            "[-1.25925986]\n",
            "[ 0.88363527 -0.60064518]\n"
          ]
        }
      ],
      "source": [
        "\n",
        "\n",
        "import pygmo as pg\n",
        "class func_to_optim:\n",
        "    def fitness(self, x):\n",
        "        f = 2*x[0]**2 + x[0]*x[1] + x[1]**2 - 3*x[0]\n",
        "        return [f]\n",
        "\n",
        "    def get_bounds(self):\n",
        "        return ([-5, -5], [5, 5])\n",
        "prob = pg.problem(func_to_optim())\n",
        "algo = pg.algorithm(pg.bee_colony(gen=10, limit=20))\n",
        "pop = pg.population(prob, 10)\n",
        "pop = algo.evolve(pop)\n",
        "print(pop.champion_f)\n",
        "print(pop.champion_x)"
      ]
    }
  ]
}